{
 "cells": [
  {
   "cell_type": "markdown",
   "metadata": {},
   "source": [
    "# 如何在vscode中编辑jupyter notebook？\n",
    "\n",
    "1. 安装jupyter noteboot的环境\n",
    "\n",
    "    [如何安装？](https://github.com/xiaolai/apple-computer-literacy/blob/main/jupyterlab.md)\n",
    "\n",
    "2. 在vscode中安装jupyter插件\n",
    "\n",
    "    [插件地址](https://marketplace.visualstudio.com/items?itemName=ms-toolsai.jupyter)\n",
    "\n",
    "3. 无需启动jupyter notebook的服务就可以直接运行\n"
   ]
  },
  {
   "cell_type": "markdown",
   "metadata": {},
   "source": [
    "vscode中常用的快捷键\n",
    "\n",
    "* ctrl + enter: 运行一个cell\n",
    "* shift + enter: 运行一个cell，并在下面追加一个新的cell"
   ]
  }
 ],
 "metadata": {
  "interpreter": {
   "hash": "fe32b506a41fd6e547419893516eb0475b202c6663ab6a0e062f20e9f3dc1f92"
  },
  "kernelspec": {
   "display_name": "Python 3.9.7 ('myenv')",
   "language": "python",
   "name": "python3"
  },
  "language_info": {
   "codemirror_mode": {
    "name": "ipython",
    "version": 3
   },
   "file_extension": ".py",
   "mimetype": "text/x-python",
   "name": "python",
   "nbconvert_exporter": "python",
   "pygments_lexer": "ipython3",
   "version": "3.10.4"
  },
  "orig_nbformat": 4
 },
 "nbformat": 4,
 "nbformat_minor": 2
}
