{
 "cells": [
  {
   "cell_type": "markdown",
   "metadata": {},
   "source": [
    "# 梯度下降算法"
   ]
  },
  {
   "cell_type": "markdown",
   "metadata": {},
   "source": [
    "梯度下降算法是一种致力于找到函数极值点的算法。\n",
    "\n",
    "前面介绍过，所谓“学习”就是改进模型参数，以便通过大量训练步骤将损失最小化。有了这个概念，将梯度下降算法应用于寻找损失函数的极值点便构成了依据输入数据的模型学习。\n",
    "\n",
    "梯度的输出是一个由若干偏导数构成的向量，它的每个分量对应与函数对输入向量的相应分量的偏导。\n",
    "\n",
    "$$ \\Delta = ( \\frac{\\delta}{\\delta w_1}, \\frac{\\delta}{\\delta w_2}, ..., \\frac{\\delta}{\\delta w_N} ) ^ T $$\n",
    "\n",
    "梯度的输出向量表明了在每个位置损失函数增长最快的方向。\n",
    "\n",
    "可将它视作为表示了在函数的每个位置向哪个方向移动函数值可以增长。"
   ]
  }
 ],
 "metadata": {
  "interpreter": {
   "hash": "fe32b506a41fd6e547419893516eb0475b202c6663ab6a0e062f20e9f3dc1f92"
  },
  "kernelspec": {
   "display_name": "Python 3.9.7 ('myenv')",
   "language": "python",
   "name": "python3"
  },
  "language_info": {
   "name": "python",
   "version": "3.9.7"
  },
  "orig_nbformat": 4
 },
 "nbformat": 4,
 "nbformat_minor": 2
}
